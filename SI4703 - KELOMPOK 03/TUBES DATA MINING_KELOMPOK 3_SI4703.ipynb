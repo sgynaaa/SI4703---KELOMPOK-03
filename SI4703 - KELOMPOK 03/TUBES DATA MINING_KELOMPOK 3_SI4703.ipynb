{
  "cells": [
    {
      "cell_type": "markdown",
      "id": "9d8e61c2",
      "metadata": {
        "id": "9d8e61c2"
      },
      "source": [
        "### **TUGAS BESAR IOT TEMP**\n",
        "\n",
        "---"
      ]
    },
    {
      "cell_type": "markdown",
      "id": "15dec942",
      "metadata": {
        "id": "15dec942"
      },
      "source": [
        "KELOMPOK        : 03\n",
        "\n",
        "Kelas       : SI4703\n",
        "\n",
        "---"
      ]
    },
    {
      "cell_type": "code",
      "execution_count": 1,
      "id": "f6f7f954",
      "metadata": {
        "colab": {
          "base_uri": "https://localhost:8080/",
          "height": 206
        },
        "id": "f6f7f954",
        "outputId": "1c410c4f-80cc-473d-8463-0b6e91639430"
      },
      "outputs": [],
      "source": [
        "from sklearn.preprocessing import StandardScaler\n",
        "from sklearn.cluster import DBSCAN\n",
        "from sklearn.ensemble import IsolationForest\n",
        "from sklearn.model_selection import train_test_split\n",
        "from sklearn.linear_model import LogisticRegression\n",
        "from sklearn.naive_bayes import GaussianNB\n",
        "from sklearn.metrics import silhouette_score, confusion_matrix, classification_report, roc_auc_score\n",
        "import pandas as pd\n",
        "import streamlit as st\n",
        "import plotly.express as px\n",
        "import joblib\n",
        "from fastapi import FastAPI\n",
        "import uvicorn\n",
        "from datetime import datetime\n",
        "import threading\n",
        "import os\n",
        "from pyngrok import ngrok"
      ]
    },
    {
      "cell_type": "code",
      "execution_count": 2,
      "id": "e76598de",
      "metadata": {
        "colab": {
          "base_uri": "https://localhost:8080/"
        },
        "id": "e76598de",
        "outputId": "f1d4736c-0442-4617-e500-3f174aa35830"
      },
      "outputs": [
        {
          "name": "stderr",
          "output_type": "stream",
          "text": [
            "ERROR:  accepts 1 arg(s), received 2\n"
          ]
        }
      ],
      "source": [
        "!ngrok authtoken add-authtoken 2ww55iuAVykS1Gi7CYFWYKsXAFS_5i4MAWjQdcr9sGXSghAvN"
      ]
    },
    {
      "cell_type": "code",
      "execution_count": 3,
      "id": "9e84dade",
      "metadata": {},
      "outputs": [],
      "source": [
        "app = FastAPI()"
      ]
    },
    {
      "cell_type": "code",
      "execution_count": 4,
      "id": "33c5f942",
      "metadata": {
        "colab": {
          "base_uri": "https://localhost:8080/",
          "height": 542
        },
        "id": "33c5f942",
        "outputId": "fe3f54ed-5a5c-4a15-9b37-1ddc9e755602"
      },
      "outputs": [
        {
          "name": "stdout",
          "output_type": "stream",
          "text": [
            "               temp\n",
            "count  97606.000000\n",
            "mean      35.053931\n",
            "std        5.699825\n",
            "min       21.000000\n",
            "25%       30.000000\n",
            "50%       35.000000\n",
            "75%       40.000000\n",
            "max       51.000000\n",
            "Distribusi Status:\n",
            "out/in\n",
            "Out    77261\n",
            "In     20345\n",
            "Name: count, dtype: int64\n"
          ]
        }
      ],
      "source": [
        "data = pd.read_csv('IOT-temp.csv', parse_dates=['noted_date'])\n",
        "print(data.describe())\n",
        "print(\"Distribusi Status:\")\n",
        "print(data['out/in'].value_counts())"
      ]
    },
    {
      "cell_type": "code",
      "execution_count": 5,
      "id": "294acab0",
      "metadata": {
        "colab": {
          "base_uri": "https://localhost:8080/",
          "height": 542
        },
        "id": "294acab0",
        "outputId": "ab9b3f08-5e68-4794-e7d0-721c980edff4"
      },
      "outputs": [],
      "source": [
        "# Preprocessing\n",
        "data = data.drop_duplicates()\n",
        "data['noted_date'] = pd.to_datetime(data['noted_date'], format='%d-%m-%Y %H:%M')\n",
        "data['hour'] = data['noted_date'].dt.hour\n",
        "data = data.drop(columns=['id', 'room_id/id'])\n",
        "data['temp'] = data['temp'].fillna(data['temp'].mean())\n",
        "data['out/in'] = data['out/in'].map({'In': 0, 'Out': 1}).fillna(0)\n",
        "data['hour'] = data['hour'].fillna(data['hour'].mode()[0])\n",
        "scaler = StandardScaler()\n",
        "data['temp_scaled'] = scaler.fit_transform(data[['temp']])\n",
        "data['temp_deviation'] = data['temp'] - data['temp'].mean()"
      ]
    },
    {
      "cell_type": "code",
      "execution_count": 6,
      "id": "6dc558cb",
      "metadata": {
        "colab": {
          "base_uri": "https://localhost:8080/"
        },
        "id": "6dc558cb",
        "outputId": "1a9168d7-427b-4216-9536-f6992bdb11e3"
      },
      "outputs": [],
      "source": [
        "# Fitur untuk clustering dan supervised learning\n",
        "features = data[['temp_scaled', 'temp_deviation', 'hour']]"
      ]
    },
    {
      "cell_type": "code",
      "execution_count": 7,
      "id": "3e653ff6",
      "metadata": {
        "colab": {
          "base_uri": "https://localhost:8080/"
        },
        "id": "3e653ff6",
        "outputId": "7e333f06-eade-4cd8-e011-17dd25203b2a"
      },
      "outputs": [
        {
          "name": "stdout",
          "output_type": "stream",
          "text": [
            "Distribusi Cluster:\n",
            "cluster\n",
            "-1       99\n",
            " 0      220\n",
            " 1      124\n",
            " 2      731\n",
            " 3      360\n",
            "       ... \n",
            " 568    260\n",
            " 569     62\n",
            " 570     13\n",
            " 571     21\n",
            " 572     13\n",
            "Name: count, Length: 574, dtype: int64\n"
          ]
        }
      ],
      "source": [
        "# DBSCAN Clustering\n",
        "dbscan = DBSCAN(eps=0.5, min_samples=5)\n",
        "data['cluster'] = dbscan.fit_predict(features)\n",
        "print(\"Distribusi Cluster:\")\n",
        "print(data['cluster'].value_counts().sort_index())"
      ]
    },
    {
      "cell_type": "code",
      "execution_count": null,
      "id": "db68860a",
      "metadata": {
        "id": "db68860a"
      },
      "outputs": [],
      "source": [
        "# Evaluasi Silhouette Score untuk DBSCAN\n",
        "sil_score = silhouette_score(features[data['cluster'] != -1], data['cluster'][data['cluster'] != -1])\n",
        "print(f\"Silhouette Score: {sil_score:.2f}\")"
      ]
    },
    {
      "cell_type": "code",
      "execution_count": null,
      "id": "afb333ed",
      "metadata": {
        "colab": {
          "base_uri": "https://localhost:8080/"
        },
        "id": "afb333ed",
        "outputId": "f8dd5c3e-553b-4109-e650-fca2f6be389e"
      },
      "outputs": [],
      "source": [
        "# Isolation Forest Detector\n",
        "iso_forest = IsolationForest(contamination=0.1, random_state=42)\n",
        "data['anomaly'] = iso_forest.fit_predict(features)\n",
        "data['anomaly_score'] = iso_forest.decision_function(features)"
      ]
    },
    {
      "cell_type": "code",
      "execution_count": null,
      "id": "47764086",
      "metadata": {
        "colab": {
          "base_uri": "https://localhost:8080/"
        },
        "id": "47764086",
        "outputId": "ea912574-95d6-4908-a4fd-e48d9e144f13"
      },
      "outputs": [],
      "source": [
        "# Regresi Logistik\n",
        "X = data[['temp_scaled', 'hour']]\n",
        "y = data['out/in']\n",
        "X_train, X_test, y_train, y_test = train_test_split(X, y, test_size=0.2, random_state=42)\n",
        "log_reg = LogisticRegression(max_iter=1000)\n",
        "log_reg.fit(X_train, y_train)\n",
        "y_pred_log = log_reg.predict(X_test)\n",
        "print(\"Regresi Logistik - Confusion Matrix:\")\n",
        "print(confusion_matrix(y_test, y_pred_log))\n",
        "print(\"Classification Report:\")\n",
        "print(classification_report(y_test, y_pred_log))\n",
        "print(f\"ROC-AUC: {roc_auc_score(y_test, log_reg.predict_proba(X_test)[:, 1]):.2f}\")\n",
        "print(f\"Koefisien: temp_scaled={log_reg.coef_[0][0]:.4f}, hour={log_reg.coef_[0][1]:.4f}\")"
      ]
    },
    {
      "cell_type": "code",
      "execution_count": null,
      "id": "1004f1e6",
      "metadata": {
        "colab": {
          "base_uri": "https://localhost:8080/"
        },
        "id": "1004f1e6",
        "outputId": "6b5a6267-a014-4d97-f12d-61ffa22e6477"
      },
      "outputs": [],
      "source": [
        "# Naïve Bayes\n",
        "nb = GaussianNB()\n",
        "nb.fit(X_train, y_train)\n",
        "y_pred_nb = nb.predict(X_test)\n",
        "print(\"Naïve Bayes - Confusion Matrix:\")\n",
        "print(confusion_matrix(y_test, y_pred_nb))\n",
        "print(\"Classification Report:\")\n",
        "print(classification_report(y_test, y_pred_nb))\n",
        "print(f\"ROC-AUC: {roc_auc_score(y_test, nb.predict_proba(X_test)[:, 1]):.2f}\")\n",
        "print(f\"Feature Importance (Variance): {nb.theta_.var(axis=0)}\")"
      ]
    },
    {
      "cell_type": "code",
      "execution_count": null,
      "id": "e76f2798",
      "metadata": {
        "colab": {
          "base_uri": "https://localhost:8080/"
        },
        "id": "e76f2798",
        "outputId": "ca156a7a-5342-4bdc-c69d-abe50e786063"
      },
      "outputs": [],
      "source": [
        "# Simpan model\n",
        "joblib.dump(dbscan, 'dbscan_model.pkl')\n",
        "joblib.dump(iso_forest, 'iso_forest_model.pkl')\n",
        "joblib.dump(scaler, 'scaler.pkl')"
      ]
    },
    {
      "cell_type": "code",
      "execution_count": null,
      "id": "5cf782d4",
      "metadata": {
        "colab": {
          "base_uri": "https://localhost:8080/"
        },
        "id": "5cf782d4",
        "outputId": "c35c120d-7e19-4e3e-a4e8-d68ae22862eb"
      },
      "outputs": [],
      "source": [
        "# API Endpoint\n",
        "@app.post(\"/anomalies\")\n",
        "async def get_anomalies(data_input: dict):\n",
        "    input_df = pd.DataFrame([data_input])\n",
        "    input_df['noted_date'] = pd.to_datetime(data_input.get('noted_date', datetime.now()), format='%d-%m-%Y %H:%M')\n",
        "    input_df['hour'] = input_df['noted_date'].dt.hour\n",
        "    input_df['temp'] = input_df['temp'].fillna(data['temp'].mean())\n",
        "    input_df['out/in'] = input_df['out/in'].map({'In': 0, 'Out': 1}).fillna(0)\n",
        "    input_df['temp_deviation'] = input_df['temp'] - data['temp'].mean()\n",
        "    input_features = scaler.transform(input_df[['temp', 'temp_deviation', 'hour']])\n",
        "    prediction = iso_forest.predict(input_features)[0]\n",
        "    score = iso_forest.decision_function(input_features)[0]\n",
        "    status = 'anomaly' if prediction == -1 else 'normal'\n",
        "    return {\"status\": status, \"score\": score, \"data\": input_df.to_dict('records')[0]}"
      ]
    },
    {
      "cell_type": "code",
      "execution_count": null,
      "id": "2da30902",
      "metadata": {
        "colab": {
          "base_uri": "https://localhost:8080/",
          "height": 80
        },
        "id": "2da30902",
        "outputId": "20b8eebf-6c57-4033-c519-ae6868f38487"
      },
      "outputs": [],
      "source": [
        "# Sel 8: Streamlit Dashboard\n",
        "st.set_page_config(page_title=\"IoT Temperature Anomaly Dashboard\", page_icon=\"🌡️\", layout=\"wide\")\n",
        "\n",
        "st.title(\"IoT Temperature Anomaly Detection Dashboard\")\n",
        "\n",
        "st.markdown(\"\"\"\n",
        "## Selamat Datang di Dashboard Deteksi Anomali Suhu IoT\n",
        "\n",
        "Dashboard ini menggunakan DBSCAN, Isolation Forest, Regresi Logistik, dan Naïve Bayes untuk analisis data suhu IoT.\n",
        "\"\"\")\n",
        "\n",
        "# Statistik\n",
        "col1, col2, col3 = st.columns(3)\n",
        "with col1:\n",
        "    st.metric(\"Jumlah Data\", data.shape[0])\n",
        "with col2:\n",
        "    st.metric(\"Data Normal (In)\", data[data['out/in'] == 0].shape[0])\n",
        "with col3:\n",
        "    st.metric(\"Data Anomali (Out)\", data[data['out/in'] == 1].shape[0])\n",
        "\n",
        "# Visualisasi Cluster\n",
        "st.subheader(\"Distribusi Cluster\")\n",
        "{\n",
        "    \"type\": \"pie\",\n",
        "    \"data\": {\n",
        "        \"labels\": data['cluster'].value_counts().index.astype(str).tolist(),\n",
        "        \"datasets\": [{\n",
        "            \"data\": data['cluster'].value_counts().values.tolist(),\n",
        "            \"backgroundColor\": ['#3498db', '#e74c3c', '#2ecc71', '#f1c40f', '#9b59b6'],\n",
        "            \"borderColor\": ['#2980b9', '#c0392b', '#27ae60', '#f39c12', '#8e44ad'],\n",
        "            \"borderWidth\": 1\n",
        "        }]\n",
        "    },\n",
        "    \"options\": {\n",
        "        \"responsive\": True,\n",
        "        \"plugins\": {\n",
        "            \"legend\": {\n",
        "                \"position\": \"top\"\n",
        "            },\n",
        "            \"title\": {\n",
        "                \"display\": True,\n",
        "                \"text\": \"Distribusi Cluster DBSCAN\"\n",
        "            }\n",
        "        }\n",
        "    }\n",
        "}\n",
        "\n",
        "st.subheader(\"Hasil Klasterisasi Suhu\")\n",
        "{\n",
        "    \"type\": \"scatter\",\n",
        "    \"data\": {\n",
        "        \"datasets\": [{\n",
        "            \"label\": \"Klaster Suhu\",\n",
        "            \"data\": [{\"x\": row['noted_date'].strftime('%Y-%m-%d %H:%M'), \"y\": row['temp'], \"cluster\": row['cluster']} for _, row in data.iterrows()],\n",
        "            \"backgroundColor\": data['cluster'].apply(lambda x: '#3498db' if x == 0 else '#e74c3c' if x == 1 else '#2ecc71' if x == 2 else '#f1c40f').tolist(),\n",
        "            \"borderColor\": data['cluster'].apply(lambda x: '#2980b9' if x == 0 else '#c0392b' if x == 1 else '#27ae60' if x == 2 else '#f39c12').tolist(),\n",
        "            \"borderWidth\": 1\n",
        "        }]\n",
        "    },\n",
        "    \"options\": {\n",
        "        \"responsive\": True,\n",
        "        \"plugins\": {\n",
        "            \"legend\": {\n",
        "                \"position\": \"top\"\n",
        "            },\n",
        "            \"title\": {\n",
        "                \"display\": True,\n",
        "                \"text\": \"Temperature Clustering (DBSCAN)\"\n",
        "            }\n",
        "        },\n",
        "        \"scales\": {\n",
        "            \"x\": {\n",
        "                \"title\": {\n",
        "                    \"display\": True,\n",
        "                    \"text\": \"Tanggal\"\n",
        "                }\n",
        "            },\n",
        "            \"y\": {\n",
        "                \"title\": {\n",
        "                    \"display\": True,\n",
        "                    \"text\": \"Suhu (°C)\"\n",
        "                }\n",
        "            }\n",
        "        }\n",
        "    }\n",
        "}\n",
        "\n",
        "# Visualisasi Anomali\n",
        "st.subheader(\"Deteksi Anomali\")\n",
        "{\n",
        "    \"type\": \"scatter\",\n",
        "    \"data\": {\n",
        "        \"datasets\": [{\n",
        "            \"label\": \"Deteksi Anomali\",\n",
        "            \"data\": [{\"x\": row['noted_date'].strftime('%Y-%m-%d %H:%M'), \"y\": row['temp'], \"status\": 'Anomali' if row['anomaly'] == -1 else 'Normal'} for _, row in data.iterrows()],\n",
        "            \"backgroundColor\": data['anomaly'].apply(lambda x: '#e74c3c' if x == -1 else '#2ecc71').tolist(),\n",
        "            \"borderColor\": data['anomaly'].apply(lambda x: '#c0392b' if x == -1 else '#27ae60').tolist(),\n",
        "            \"borderWidth\": 1\n",
        "        }]\n",
        "    },\n",
        "    \"options\": {\n",
        "        \"responsive\": True,\n",
        "        \"plugins\": {\n",
        "            \"legend\": {\n",
        "                \"position\": \"top\"\n",
        "            },\n",
        "            \"title\": {\n",
        "                \"display\": True,\n",
        "                \"text\": \"Anomaly Detection (Isolation Forest)\"\n",
        "            }\n",
        "        },\n",
        "        \"scales\": {\n",
        "            \"x\": {\n",
        "                \"title\": {\n",
        "                    \"display\": True,\n",
        "                    \"text\": \"Tanggal\"\n",
        "                }\n",
        "            },\n",
        "            \"y\": {\n",
        "                \"title\": {\n",
        "                    \"display\": True,\n",
        "                    \"text\": \"Suhu (°C)\"\n",
        "                }\n",
        "            }\n",
        "        }\n",
        "    }\n",
        "}\n",
        "\n",
        "# Alert\n",
        "if (data['anomaly'] == -1).any():\n",
        "    st.warning('Anomali Terdeteksi pada Sensor!')\n",
        "\n",
        "# Contoh Data\n",
        "st.subheader(\"Contoh Data per Cluster\")\n",
        "for cluster in data['cluster'].unique():\n",
        "    st.write(data[data['cluster'] == cluster][['noted_date', 'temp', 'out/in']].head(3))\n",
        "\n",
        "st.markdown(f\"---\\nDiperbarui pada: {datetime.now().strftime('%I:%M %p WIB, %d %B %Y')}\")\n",
        "\n",
        "# Sel 9: Deployment dengan ngrok\n",
        "def run_streamlit():\n",
        "    os.system(\"streamlit run app.py --server.port 8501\")\n",
        "\n",
        "try:\n",
        "    thread = threading.Thread(target=run_streamlit, daemon=True)\n",
        "    thread.start()\n",
        "    time.sleep(5)  # Beri waktu agar Streamlit stabil\n",
        "    public_url = ngrok.connect(addr='8501')\n",
        "    st.write(f\"URL Publik Dashboard: {public_url}\")\n",
        "except Exception as e:\n",
        "    st.error(f\"Error saat menghubungkan ngrok: {e}\")"
      ]
    }
  ],
  "metadata": {
    "colab": {
      "provenance": []
    },
    "kernelspec": {
      "display_name": "Python 3",
      "language": "python",
      "name": "python3"
    },
    "language_info": {
      "codemirror_mode": {
        "name": "ipython",
        "version": 3
      },
      "file_extension": ".py",
      "mimetype": "text/x-python",
      "name": "python",
      "nbconvert_exporter": "python",
      "pygments_lexer": "ipython3",
      "version": "3.11.9"
    }
  },
  "nbformat": 4,
  "nbformat_minor": 5
}
