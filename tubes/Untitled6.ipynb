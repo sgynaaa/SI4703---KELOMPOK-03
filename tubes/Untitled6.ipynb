{
  "cells": [
    {
      "cell_type": "code",
      "execution_count": 1,
      "metadata": {
        "colab": {
          "base_uri": "https://localhost:8080/",
          "height": 625
        },
        "id": "vp1i_0jEmNB9",
        "outputId": "53334116-228e-4850-c260-5fb5498bd1c2"
      },
      "outputs": [
        {
          "data": {
            "text/html": [
              "<div>\n",
              "<style scoped>\n",
              "    .dataframe tbody tr th:only-of-type {\n",
              "        vertical-align: middle;\n",
              "    }\n",
              "\n",
              "    .dataframe tbody tr th {\n",
              "        vertical-align: top;\n",
              "    }\n",
              "\n",
              "    .dataframe thead th {\n",
              "        text-align: right;\n",
              "    }\n",
              "</style>\n",
              "<table border=\"1\" class=\"dataframe\">\n",
              "  <thead>\n",
              "    <tr style=\"text-align: right;\">\n",
              "      <th></th>\n",
              "      <th>id</th>\n",
              "      <th>room_id/id</th>\n",
              "      <th>noted_date</th>\n",
              "      <th>temp</th>\n",
              "      <th>out/in</th>\n",
              "    </tr>\n",
              "  </thead>\n",
              "  <tbody>\n",
              "    <tr>\n",
              "      <th>0</th>\n",
              "      <td>__export__.temp_log_196134_bd201015</td>\n",
              "      <td>Room Admin</td>\n",
              "      <td>08-12-2018 09:30</td>\n",
              "      <td>29</td>\n",
              "      <td>In</td>\n",
              "    </tr>\n",
              "    <tr>\n",
              "      <th>1</th>\n",
              "      <td>__export__.temp_log_196131_7bca51bc</td>\n",
              "      <td>Room Admin</td>\n",
              "      <td>08-12-2018 09:30</td>\n",
              "      <td>29</td>\n",
              "      <td>In</td>\n",
              "    </tr>\n",
              "    <tr>\n",
              "      <th>2</th>\n",
              "      <td>__export__.temp_log_196127_522915e3</td>\n",
              "      <td>Room Admin</td>\n",
              "      <td>08-12-2018 09:29</td>\n",
              "      <td>41</td>\n",
              "      <td>Out</td>\n",
              "    </tr>\n",
              "    <tr>\n",
              "      <th>3</th>\n",
              "      <td>__export__.temp_log_196128_be0919cf</td>\n",
              "      <td>Room Admin</td>\n",
              "      <td>08-12-2018 09:29</td>\n",
              "      <td>41</td>\n",
              "      <td>Out</td>\n",
              "    </tr>\n",
              "    <tr>\n",
              "      <th>4</th>\n",
              "      <td>__export__.temp_log_196126_d30b72fb</td>\n",
              "      <td>Room Admin</td>\n",
              "      <td>08-12-2018 09:29</td>\n",
              "      <td>31</td>\n",
              "      <td>In</td>\n",
              "    </tr>\n",
              "  </tbody>\n",
              "</table>\n",
              "</div>"
            ],
            "text/plain": [
              "                                    id  room_id/id        noted_date  temp  \\\n",
              "0  __export__.temp_log_196134_bd201015  Room Admin  08-12-2018 09:30    29   \n",
              "1  __export__.temp_log_196131_7bca51bc  Room Admin  08-12-2018 09:30    29   \n",
              "2  __export__.temp_log_196127_522915e3  Room Admin  08-12-2018 09:29    41   \n",
              "3  __export__.temp_log_196128_be0919cf  Room Admin  08-12-2018 09:29    41   \n",
              "4  __export__.temp_log_196126_d30b72fb  Room Admin  08-12-2018 09:29    31   \n",
              "\n",
              "  out/in  \n",
              "0     In  \n",
              "1     In  \n",
              "2    Out  \n",
              "3    Out  \n",
              "4     In  "
            ]
          },
          "execution_count": 1,
          "metadata": {},
          "output_type": "execute_result"
        }
      ],
      "source": [
        "import pandas as pd\n",
        "import numpy as np\n",
        "from sklearn.preprocessing import StandardScaler\n",
        "from sklearn.ensemble import IsolationForest\n",
        "from sklearn.cluster import DBSCAN\n",
        "from flask import Flask, jsonify\n",
        "import plotly.express as px\n",
        "import dash\n",
        "from dash import dcc, html\n",
        "from datetime import datetime\n",
        "\n",
        "df = pd.read_csv('IOT-temp.csv')\n",
        "df.head()"
      ]
    },
    {
      "cell_type": "code",
      "execution_count": 2,
      "metadata": {
        "id": "ffktcB7DA-ST"
      },
      "outputs": [],
      "source": [
        "def preprocess_data(df):\n",
        "    # Konversi noted_date ke datetime\n",
        "    df['noted_date'] = pd.to_datetime(df['noted_date'], format='%d-%m-%Y %H:%M')\n",
        "\n",
        "    # Feature engineering: Ekstrak jam dari noted_date\n",
        "    df['hour'] = df['noted_date'].dt.hour\n",
        "\n",
        "    # Normalisasi suhu\n",
        "    scaler = StandardScaler()\n",
        "    df['temp_scaled'] = scaler.fit_transform(df[['temp']])\n",
        "\n",
        "    return df"
      ]
    },
    {
      "cell_type": "code",
      "execution_count": 3,
      "metadata": {
        "id": "TLKQoZG16syx"
      },
      "outputs": [],
      "source": [
        "df_processed = preprocess_data(df)"
      ]
    },
    {
      "cell_type": "code",
      "execution_count": 4,
      "metadata": {
        "id": "byV69rro6ycK"
      },
      "outputs": [],
      "source": [
        "def detect_anomalies(df):\n",
        "    # Isolation Forest\n",
        "    iso_forest = IsolationForest(contamination=0.1, random_state=42)\n",
        "    df['anomaly_iso'] = iso_forest.fit_predict(df[['temp_scaled', 'hour']])\n",
        "    df['anomaly_iso'] = df['anomaly_iso'].map({1: 'Normal', -1: 'Anomaly'})\n",
        "\n",
        "    # DBSCAN\n",
        "    dbscan = DBSCAN(eps=0.5, min_samples=2)\n",
        "    df['cluster_dbscan'] = dbscan.fit_predict(df[['temp_scaled', 'hour']])\n",
        "    df['anomaly_dbscan'] = df['cluster_dbscan'].apply(lambda x: 'Anomaly' if x == -1 else 'Normal')\n",
        "\n",
        "    return df"
      ]
    },
    {
      "cell_type": "code",
      "execution_count": 5,
      "metadata": {
        "id": "XbUsqbhK6330"
      },
      "outputs": [],
      "source": [
        "df_results = detect_anomalies(df_processed)"
      ]
    },
    {
      "cell_type": "code",
      "execution_count": 6,
      "metadata": {
        "id": "xGldbQyL7Smt"
      },
      "outputs": [],
      "source": [
        "app_flask = Flask(__name__)\n",
        "\n",
        "@app_flask.route('/anomalies', methods=['GET'])\n",
        "def get_anomalies():\n",
        "    anomalies = df_results[df_results['anomaly_iso'] == 'Anomaly'][['id', 'temp', 'noted_date']].to_dict('records')\n",
        "    return jsonify(anomalies)"
      ]
    },
    {
      "cell_type": "code",
      "execution_count": 7,
      "metadata": {
        "id": "f5VsFaL67XOi"
      },
      "outputs": [],
      "source": [
        "app_dash = dash.Dash(__name__)\n",
        "\n",
        "app_dash.layout = html.Div([\n",
        "    html.H1(\"Temperature Anomaly Dashboard\"),\n",
        "    dcc.Graph(\n",
        "        id='scatter-plot',\n",
        "        figure=px.scatter(\n",
        "            df_results,\n",
        "            x='noted_date',\n",
        "            y='temp',\n",
        "            color='anomaly_iso',\n",
        "            title='Temperature Anomalies (Isolation Forest)',\n",
        "            labels={'anomaly_iso': 'Anomaly Status'}\n",
        "        )\n",
        "    ),\n",
        "    dcc.Graph(\n",
        "        id='cluster-plot',\n",
        "        figure=px.scatter(\n",
        "            df_results,\n",
        "            x='noted_date',\n",
        "            y='temp',\n",
        "            color='cluster_dbscan',\n",
        "            title='Temperature Clustering (DBSCAN)',\n",
        "            labels={'cluster_dbscan': 'Cluster'}\n",
        "        )\n",
        "    )\n",
        "])"
      ]
    },
    {
      "cell_type": "code",
      "execution_count": 8,
      "metadata": {
        "colab": {
          "base_uri": "https://localhost:8080/"
        },
        "id": "ru9AAhLB8RQr",
        "outputId": "203485d0-8973-4569-877d-dd6e27e786cd"
      },
      "outputs": [
        {
          "name": "stdout",
          "output_type": "stream",
          "text": [
            "Anomaly detection completed. Results saved to 'anomaly_results.csv'.\n",
            "                                        id  temp          noted_date  \\\n",
            "0      __export__.temp_log_196134_bd201015    29 2018-12-08 09:30:00   \n",
            "1      __export__.temp_log_196131_7bca51bc    29 2018-12-08 09:30:00   \n",
            "2      __export__.temp_log_196127_522915e3    41 2018-12-08 09:29:00   \n",
            "3      __export__.temp_log_196128_be0919cf    41 2018-12-08 09:29:00   \n",
            "4      __export__.temp_log_196126_d30b72fb    31 2018-12-08 09:29:00   \n",
            "...                                    ...   ...                 ...   \n",
            "97601   __export__.temp_log_91076_7fbd08ca    31 2018-07-28 07:07:00   \n",
            "97602  __export__.temp_log_147733_62c03f31    31 2018-07-28 07:07:00   \n",
            "97603  __export__.temp_log_100386_84093a68    31 2018-07-28 07:06:00   \n",
            "97604  __export__.temp_log_123297_4d8e690b    31 2018-07-28 07:06:00   \n",
            "97605  __export__.temp_log_133741_32958703    31 2018-07-28 07:06:00   \n",
            "\n",
            "      anomaly_iso anomaly_dbscan  \n",
            "0          Normal         Normal  \n",
            "1          Normal         Normal  \n",
            "2          Normal         Normal  \n",
            "3          Normal         Normal  \n",
            "4          Normal         Normal  \n",
            "...           ...            ...  \n",
            "97601      Normal         Normal  \n",
            "97602      Normal         Normal  \n",
            "97603      Normal         Normal  \n",
            "97604      Normal         Normal  \n",
            "97605      Normal         Normal  \n",
            "\n",
            "[97606 rows x 5 columns]\n"
          ]
        }
      ],
      "source": [
        "df_results.to_csv('anomaly_results.csv', index=False)\n",
        "print(\"Anomaly detection completed. Results saved to 'anomaly_results.csv'.\")\n",
        "print(df_results[['id', 'temp', 'noted_date', 'anomaly_iso', 'anomaly_dbscan']])"
      ]
    },
    {
      "cell_type": "code",
      "execution_count": 9,
      "metadata": {},
      "outputs": [
        {
          "name": "stdout",
          "output_type": "stream",
          "text": [
            " * Serving Flask app '__main__'\n",
            " * Debug mode: off\n"
          ]
        },
        {
          "data": {
            "text/html": [
              "\n",
              "        <iframe\n",
              "            width=\"100%\"\n",
              "            height=\"650\"\n",
              "            src=\"http://127.0.0.1:8050/\"\n",
              "            frameborder=\"0\"\n",
              "            allowfullscreen\n",
              "            \n",
              "        ></iframe>\n",
              "        "
            ],
            "text/plain": [
              "<IPython.lib.display.IFrame at 0x28a05d90cd0>"
            ]
          },
          "metadata": {},
          "output_type": "display_data"
        }
      ],
      "source": [
        "if __name__ == '__main__':\n",
        "    import threading\n",
        "    threading.Thread(target=lambda: app_flask.run(debug=False, port=5000)).start()\n",
        "    app_dash.run(debug=False, port=8050)"
      ]
    }
  ],
  "metadata": {
    "colab": {
      "provenance": []
    },
    "kernelspec": {
      "display_name": "Python 3",
      "name": "python3"
    },
    "language_info": {
      "codemirror_mode": {
        "name": "ipython",
        "version": 3
      },
      "file_extension": ".py",
      "mimetype": "text/x-python",
      "name": "python",
      "nbconvert_exporter": "python",
      "pygments_lexer": "ipython3",
      "version": "3.11.9"
    }
  },
  "nbformat": 4,
  "nbformat_minor": 0
}
